{
  "cells": [
    {
      "cell_type": "markdown",
      "metadata": {
        "id": "LcBeWeVAsNab"
      },
      "source": [
        "# Ex3 - Getting and Knowing your Data"
      ]
    },
    {
      "cell_type": "markdown",
      "metadata": {
        "id": "uPozF5mTsNae"
      },
      "source": [
        "This time we are going to pull data directly from the internet.\n",
        "Special thanks to: https://github.com/justmarkham for sharing the dataset and materials.\n",
        "\n",
        "### Step 1. Import the necessary libraries"
      ]
    },
    {
      "cell_type": "code",
      "execution_count": 2,
      "metadata": {
        "id": "v1FVV2e_sNaf"
      },
      "outputs": [],
      "source": [
        "import pandas as pd\n",
        "import numpy as np"
      ]
    },
    {
      "cell_type": "markdown",
      "metadata": {
        "id": "skDA7F7asNaf"
      },
      "source": [
        "### Step 2. Import the dataset from this [address](https://raw.githubusercontent.com/justmarkham/DAT8/master/data/u.user)."
      ]
    },
    {
      "cell_type": "markdown",
      "metadata": {
        "id": "sMJya56ZsNag"
      },
      "source": [
        "### Step 3. Assign it to a variable called users and use the 'user_id' as index"
      ]
    },
    {
      "cell_type": "code",
      "execution_count": 3,
      "metadata": {
        "id": "FE4hSa2gsNah"
      },
      "outputs": [],
      "source": [
        "url = 'https://raw.githubusercontent.com/justmarkham/DAT8/master/data/u.user'\n",
        "users = pd.read_csv(url,sep='|', index_col='user_id')"
      ]
    },
    {
      "cell_type": "markdown",
      "metadata": {
        "id": "owIzUKM1sNah"
      },
      "source": [
        "### Step 4. See the first 25 entries"
      ]
    },
    {
      "cell_type": "code",
      "execution_count": null,
      "metadata": {
        "scrolled": true,
        "colab": {
          "base_uri": "https://localhost:8080/"
        },
        "id": "pYQmr3mlsNah",
        "outputId": "b04d1d6d-b9f6-44e3-f43d-b7b2fce5ce2b"
      },
      "outputs": [
        {
          "output_type": "stream",
          "name": "stdout",
          "text": [
            "         age gender     occupation zip_code\n",
            "user_id                                    \n",
            "1         24      M     technician    85711\n",
            "2         53      F          other    94043\n",
            "3         23      M         writer    32067\n",
            "4         24      M     technician    43537\n",
            "5         33      F          other    15213\n",
            "6         42      M      executive    98101\n",
            "7         57      M  administrator    91344\n",
            "8         36      M  administrator    05201\n",
            "9         29      M        student    01002\n",
            "10        53      M         lawyer    90703\n",
            "11        39      F          other    30329\n",
            "12        28      F          other    06405\n",
            "13        47      M       educator    29206\n",
            "14        45      M      scientist    55106\n",
            "15        49      F       educator    97301\n",
            "16        21      M  entertainment    10309\n",
            "17        30      M     programmer    06355\n",
            "18        35      F          other    37212\n",
            "19        40      M      librarian    02138\n",
            "20        42      F      homemaker    95660\n",
            "21        26      M         writer    30068\n",
            "22        25      M         writer    40206\n",
            "23        30      F         artist    48197\n",
            "24        21      F         artist    94533\n",
            "25        39      M       engineer    55107\n"
          ]
        }
      ],
      "source": [
        "print(users.head(25))"
      ]
    },
    {
      "cell_type": "markdown",
      "metadata": {
        "id": "DTSpRU9zsNai"
      },
      "source": [
        "### Step 5. See the last 10 entries"
      ]
    },
    {
      "cell_type": "code",
      "execution_count": null,
      "metadata": {
        "scrolled": true,
        "colab": {
          "base_uri": "https://localhost:8080/"
        },
        "id": "zJ_6EMuZsNaj",
        "outputId": "10f6ace3-d968-4822-bf1c-0a5b34d7b2b0"
      },
      "outputs": [
        {
          "output_type": "stream",
          "name": "stdout",
          "text": [
            "         age gender     occupation zip_code\n",
            "user_id                                    \n",
            "934       61      M       engineer    22902\n",
            "935       42      M         doctor    66221\n",
            "936       24      M          other    32789\n",
            "937       48      M       educator    98072\n",
            "938       38      F     technician    55038\n",
            "939       26      F        student    33319\n",
            "940       32      M  administrator    02215\n",
            "941       20      M        student    97229\n",
            "942       48      F      librarian    78209\n",
            "943       22      M        student    77841\n"
          ]
        }
      ],
      "source": [
        "print(users.tail(10))"
      ]
    },
    {
      "cell_type": "markdown",
      "metadata": {
        "id": "0Gvqn90KsNaj"
      },
      "source": [
        "### Step 6. What is the number of observations in the dataset?"
      ]
    },
    {
      "cell_type": "code",
      "execution_count": null,
      "metadata": {
        "colab": {
          "base_uri": "https://localhost:8080/"
        },
        "id": "MKJDFh4VsNaj",
        "outputId": "f0c41a0f-77d4-41f6-fcbb-edada3505d9c"
      },
      "outputs": [
        {
          "output_type": "stream",
          "name": "stdout",
          "text": [
            "Número de Linhas: 943\n"
          ]
        }
      ],
      "source": [
        "number_observations = users.shape[0]\n",
        "print(f\"Número de Linhas: {number_observations}\")"
      ]
    },
    {
      "cell_type": "markdown",
      "metadata": {
        "id": "AfUlUXcqsNak"
      },
      "source": [
        "### Step 7. What is the number of columns in the dataset?"
      ]
    },
    {
      "cell_type": "code",
      "execution_count": 4,
      "metadata": {
        "id": "Ftv2VeQzsNak",
        "outputId": "78c09dae-1fd4-4b67-d1dd-c5d127727579",
        "colab": {
          "base_uri": "https://localhost:8080/"
        }
      },
      "outputs": [
        {
          "output_type": "stream",
          "name": "stdout",
          "text": [
            "Número de Coluna: 4\n"
          ]
        }
      ],
      "source": [
        "num_columns = users.shape[1]\n",
        "print(f\"Número de Coluna: {num_columns}\")"
      ]
    },
    {
      "cell_type": "markdown",
      "metadata": {
        "id": "K7Mj0eRhsNak"
      },
      "source": [
        "### Step 8. Print the name of all the columns."
      ]
    },
    {
      "cell_type": "code",
      "execution_count": 5,
      "metadata": {
        "id": "6gFikTrysNak",
        "outputId": "e6815e6a-8915-4b06-8595-9b86937a3e5c",
        "colab": {
          "base_uri": "https://localhost:8080/"
        }
      },
      "outputs": [
        {
          "output_type": "stream",
          "name": "stdout",
          "text": [
            "['age', 'gender', 'occupation', 'zip_code']\n"
          ]
        }
      ],
      "source": [
        "print(list(users.columns))"
      ]
    },
    {
      "cell_type": "markdown",
      "metadata": {
        "id": "LXWh_XbusNak"
      },
      "source": [
        "### Step 9. How is the dataset indexed?"
      ]
    },
    {
      "cell_type": "code",
      "execution_count": 7,
      "metadata": {
        "id": "JxZpirzbsNak",
        "outputId": "46fa12a4-3a8f-42bc-fc3e-43b235cd37ad",
        "colab": {
          "base_uri": "https://localhost:8080/"
        }
      },
      "outputs": [
        {
          "output_type": "stream",
          "name": "stdout",
          "text": [
            "Index([  1,   2,   3,   4,   5,   6,   7,   8,   9,  10,\n",
            "       ...\n",
            "       934, 935, 936, 937, 938, 939, 940, 941, 942, 943],\n",
            "      dtype='int64', name='user_id', length=943)\n"
          ]
        }
      ],
      "source": [
        "print(users.index)"
      ]
    },
    {
      "cell_type": "markdown",
      "metadata": {
        "id": "r281guNJsNal"
      },
      "source": [
        "### Step 10. What is the data type of each column?"
      ]
    },
    {
      "cell_type": "code",
      "execution_count": 8,
      "metadata": {
        "id": "10RtuXwwsNal",
        "outputId": "40083658-9e68-4396-f86b-3dff71c61327",
        "colab": {
          "base_uri": "https://localhost:8080/"
        }
      },
      "outputs": [
        {
          "output_type": "stream",
          "name": "stdout",
          "text": [
            "age            int64\n",
            "gender        object\n",
            "occupation    object\n",
            "zip_code      object\n",
            "dtype: object\n"
          ]
        }
      ],
      "source": [
        "print(users.dtypes)"
      ]
    },
    {
      "cell_type": "markdown",
      "metadata": {
        "id": "wXJmJizesNal"
      },
      "source": [
        "### Step 11. Print only the occupation column"
      ]
    },
    {
      "cell_type": "code",
      "execution_count": 9,
      "metadata": {
        "id": "SoZu52QusNal",
        "outputId": "b8bb1b15-8bd7-4d31-9a6b-5ebe2242354d",
        "colab": {
          "base_uri": "https://localhost:8080/"
        }
      },
      "outputs": [
        {
          "output_type": "stream",
          "name": "stdout",
          "text": [
            "user_id\n",
            "1         technician\n",
            "2              other\n",
            "3             writer\n",
            "4         technician\n",
            "5              other\n",
            "           ...      \n",
            "939          student\n",
            "940    administrator\n",
            "941          student\n",
            "942        librarian\n",
            "943          student\n",
            "Name: occupation, Length: 943, dtype: object\n"
          ]
        }
      ],
      "source": [
        "print(users['occupation'])"
      ]
    },
    {
      "cell_type": "markdown",
      "metadata": {
        "id": "AyfzmoyqsNal"
      },
      "source": [
        "### Step 12. How many different occupations are in this dataset?"
      ]
    },
    {
      "cell_type": "code",
      "execution_count": 15,
      "metadata": {
        "id": "hWUVZUTDsNam",
        "outputId": "ae943755-83bd-480b-f4f9-9a3f327de17d",
        "colab": {
          "base_uri": "https://localhost:8080/"
        }
      },
      "outputs": [
        {
          "output_type": "stream",
          "name": "stdout",
          "text": [
            "Número de linhas diferentes: 21\n"
          ]
        }
      ],
      "source": [
        "num_occupations = users['occupation'].nunique()\n",
        "print(f\"Número de linhas diferentes: {num_occupations}\")"
      ]
    },
    {
      "cell_type": "markdown",
      "metadata": {
        "id": "qDimQJY4sNam"
      },
      "source": [
        "### Step 13. What is the most frequent occupation?"
      ]
    },
    {
      "cell_type": "code",
      "execution_count": 17,
      "metadata": {
        "id": "lqlPpXz4sNam",
        "outputId": "e36c70a1-fac1-443b-d66b-fcb25efe8f0c",
        "colab": {
          "base_uri": "https://localhost:8080/"
        }
      },
      "outputs": [
        {
          "output_type": "stream",
          "name": "stdout",
          "text": [
            "occupation\n",
            "student          196\n",
            "other            105\n",
            "educator          95\n",
            "administrator     79\n",
            "engineer          67\n",
            "programmer        66\n",
            "librarian         51\n",
            "writer            45\n",
            "executive         32\n",
            "scientist         31\n",
            "artist            28\n",
            "technician        27\n",
            "marketing         26\n",
            "entertainment     18\n",
            "healthcare        16\n",
            "retired           14\n",
            "lawyer            12\n",
            "salesman          12\n",
            "none               9\n",
            "homemaker          7\n",
            "doctor             7\n",
            "Name: count, dtype: int64\n"
          ]
        }
      ],
      "source": [
        "print(users['occupation'].value_counts())"
      ]
    },
    {
      "cell_type": "markdown",
      "metadata": {
        "id": "Vq8xlzT2sNam"
      },
      "source": [
        "### Step 14. Summarize the DataFrame."
      ]
    },
    {
      "cell_type": "code",
      "execution_count": 18,
      "metadata": {
        "id": "IJxelNXSsNam",
        "outputId": "65922cc6-ceb5-46d2-a83d-dbd9e3e78982",
        "colab": {
          "base_uri": "https://localhost:8080/"
        }
      },
      "outputs": [
        {
          "output_type": "stream",
          "name": "stdout",
          "text": [
            "              age\n",
            "count  943.000000\n",
            "mean    34.051962\n",
            "std     12.192740\n",
            "min      7.000000\n",
            "25%     25.000000\n",
            "50%     31.000000\n",
            "75%     43.000000\n",
            "max     73.000000\n"
          ]
        }
      ],
      "source": [
        "print(users.describe())"
      ]
    },
    {
      "cell_type": "markdown",
      "metadata": {
        "id": "91Ij_XytsNam"
      },
      "source": [
        "### Step 15. Summarize all the columns"
      ]
    },
    {
      "cell_type": "code",
      "execution_count": 19,
      "metadata": {
        "id": "f8rW16sWsNam",
        "outputId": "d2c35937-f5a0-424f-d733-0a21ea0f0e5e",
        "colab": {
          "base_uri": "https://localhost:8080/"
        }
      },
      "outputs": [
        {
          "output_type": "stream",
          "name": "stdout",
          "text": [
            "               age gender occupation zip_code\n",
            "count   943.000000    943        943      943\n",
            "unique         NaN      2         21      795\n",
            "top            NaN      M    student    55414\n",
            "freq           NaN    670        196        9\n",
            "mean     34.051962    NaN        NaN      NaN\n",
            "std      12.192740    NaN        NaN      NaN\n",
            "min       7.000000    NaN        NaN      NaN\n",
            "25%      25.000000    NaN        NaN      NaN\n",
            "50%      31.000000    NaN        NaN      NaN\n",
            "75%      43.000000    NaN        NaN      NaN\n",
            "max      73.000000    NaN        NaN      NaN\n"
          ]
        }
      ],
      "source": [
        "print(users.describe(include='all'))"
      ]
    },
    {
      "cell_type": "markdown",
      "metadata": {
        "id": "2Bid1HF9sNam"
      },
      "source": [
        "### Step 16. Summarize only the occupation column"
      ]
    },
    {
      "cell_type": "code",
      "execution_count": 23,
      "metadata": {
        "id": "sJE_OMIpsNam",
        "outputId": "ded669fb-8986-4529-a10f-6a3935ffdba9",
        "colab": {
          "base_uri": "https://localhost:8080/"
        }
      },
      "outputs": [
        {
          "output_type": "stream",
          "name": "stdout",
          "text": [
            "count         943\n",
            "unique         21\n",
            "top       student\n",
            "freq          196\n",
            "Name: occupation, dtype: object\n"
          ]
        }
      ],
      "source": [
        "print(users[\"occupation\"].describe())"
      ]
    },
    {
      "cell_type": "markdown",
      "metadata": {
        "id": "eD4qJumjsNan"
      },
      "source": [
        "### Step 17. What is the mean age of users?"
      ]
    },
    {
      "cell_type": "code",
      "execution_count": 22,
      "metadata": {
        "id": "Ure5ja9gsNan",
        "outputId": "70d6491f-0159-4be8-e101-b51598dc53d7",
        "colab": {
          "base_uri": "https://localhost:8080/"
        }
      },
      "outputs": [
        {
          "output_type": "stream",
          "name": "stdout",
          "text": [
            "Idade Média do ususário: 34.05 anos\n"
          ]
        }
      ],
      "source": [
        "mean_age = users['age'].mean()\n",
        "print(f\"Idade Média do ususário: {mean_age:.2f} anos\")"
      ]
    },
    {
      "cell_type": "markdown",
      "metadata": {
        "id": "vltvQcwmsNan"
      },
      "source": [
        "### Step 18. What is the age with least occurrence?"
      ]
    },
    {
      "cell_type": "code",
      "execution_count": 21,
      "metadata": {
        "id": "L6vZUVUWsNan",
        "outputId": "6b65e1fc-da27-49c1-ea88-c888dbd47ca3",
        "colab": {
          "base_uri": "https://localhost:8080/"
        }
      },
      "outputs": [
        {
          "output_type": "stream",
          "name": "stdout",
          "text": [
            "age\n",
            "7     1\n",
            "11    1\n",
            "66    1\n",
            "10    1\n",
            "73    1\n",
            "Name: count, dtype: int64\n"
          ]
        }
      ],
      "source": [
        "age_counts = users['age'].value_counts()\n",
        "least_common_age = age_counts[age_counts == age_counts.min()]\n",
        "print(least_common_age)"
      ]
    }
  ],
  "metadata": {
    "anaconda-cloud": {},
    "kernelspec": {
      "display_name": "Python [default]",
      "language": "python",
      "name": "python2"
    },
    "language_info": {
      "codemirror_mode": {
        "name": "ipython",
        "version": 2
      },
      "file_extension": ".py",
      "mimetype": "text/x-python",
      "name": "python",
      "nbconvert_exporter": "python",
      "pygments_lexer": "ipython2",
      "version": "2.7.12"
    },
    "colab": {
      "provenance": []
    }
  },
  "nbformat": 4,
  "nbformat_minor": 0
}