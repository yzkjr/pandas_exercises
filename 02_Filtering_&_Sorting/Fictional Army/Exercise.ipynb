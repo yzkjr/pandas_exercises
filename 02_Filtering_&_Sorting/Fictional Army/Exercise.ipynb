{
  "cells": [
    {
      "cell_type": "markdown",
      "metadata": {
        "id": "LGgsDqmlY5IW"
      },
      "source": [
        "# Fictional Army - Filtering and Sorting"
      ]
    },
    {
      "cell_type": "markdown",
      "metadata": {
        "id": "n-boEiZgY5IX"
      },
      "source": [
        "### Introduction:\n",
        "\n",
        "This exercise was inspired by this [page](http://chrisalbon.com/python/)\n",
        "\n",
        "Special thanks to: https://github.com/chrisalbon for sharing the dataset and materials.\n",
        "\n",
        "### Step 1. Import the necessary libraries"
      ]
    },
    {
      "cell_type": "code",
      "execution_count": 1,
      "metadata": {
        "id": "YDbKwx8bY5IY"
      },
      "outputs": [],
      "source": [
        "import pandas as pd"
      ]
    },
    {
      "cell_type": "markdown",
      "metadata": {
        "id": "jkmb2ZFiY5IZ"
      },
      "source": [
        "### Step 2. This is the data given as a dictionary"
      ]
    },
    {
      "cell_type": "code",
      "execution_count": 2,
      "metadata": {
        "collapsed": true,
        "id": "e9l-OisiY5Ia"
      },
      "outputs": [],
      "source": [
        "# Create an example dataframe about a fictional army\n",
        "raw_data = {'regiment': ['Nighthawks', 'Nighthawks', 'Nighthawks', 'Nighthawks', 'Dragoons', 'Dragoons', 'Dragoons', 'Dragoons', 'Scouts', 'Scouts', 'Scouts', 'Scouts'],\n",
        "            'company': ['1st', '1st', '2nd', '2nd', '1st', '1st', '2nd', '2nd','1st', '1st', '2nd', '2nd'],\n",
        "            'deaths': [523, 52, 25, 616, 43, 234, 523, 62, 62, 73, 37, 35],\n",
        "            'battles': [5, 42, 2, 2, 4, 7, 8, 3, 4, 7, 8, 9],\n",
        "            'size': [1045, 957, 1099, 1400, 1592, 1006, 987, 849, 973, 1005, 1099, 1523],\n",
        "            'veterans': [1, 5, 62, 26, 73, 37, 949, 48, 48, 435, 63, 345],\n",
        "            'readiness': [1, 2, 3, 3, 2, 1, 2, 3, 2, 1, 2, 3],\n",
        "            'armored': [1, 0, 1, 1, 0, 1, 0, 1, 0, 0, 1, 1],\n",
        "            'deserters': [4, 24, 31, 2, 3, 4, 24, 31, 2, 3, 2, 3],\n",
        "            'origin': ['Arizona', 'California', 'Texas', 'Florida', 'Maine', 'Iowa', 'Alaska', 'Washington', 'Oregon', 'Wyoming', 'Louisana', 'Georgia']}"
      ]
    },
    {
      "cell_type": "markdown",
      "metadata": {
        "id": "TMxbJF5WY5Ib"
      },
      "source": [
        "### Step 3. Create a dataframe and assign it to a variable called army.\n",
        "\n",
        "#### Don't forget to include the columns names in the order presented in the dictionary ('regiment', 'company', 'deaths'...) so that the column index order is consistent with the solutions. If omitted, pandas will order the columns alphabetically."
      ]
    },
    {
      "cell_type": "code",
      "execution_count": 12,
      "metadata": {
        "id": "oJQ-zdLVY5Ib"
      },
      "outputs": [],
      "source": [
        "army = pd.DataFrame(raw_data, columns = ['regiment', 'company', 'deaths', 'battles', 'size',\n",
        "                                         'veterans', 'readiness', 'armored', 'deserters', 'origin'])"
      ]
    },
    {
      "cell_type": "markdown",
      "metadata": {
        "id": "3oMTrj_NY5Ib"
      },
      "source": [
        "### Step 4. Set the 'origin' colum as the index of the dataframe"
      ]
    },
    {
      "cell_type": "code",
      "execution_count": 13,
      "metadata": {
        "id": "thdiWWoBY5Ic"
      },
      "outputs": [],
      "source": [
        "army.set_index('origin', inplace=True)"
      ]
    },
    {
      "cell_type": "markdown",
      "metadata": {
        "id": "0aaVj0-uY5Id"
      },
      "source": [
        "### Step 5. Print only the column veterans"
      ]
    },
    {
      "cell_type": "code",
      "execution_count": 14,
      "metadata": {
        "colab": {
          "base_uri": "https://localhost:8080/"
        },
        "id": "-ITbV0tAY5Ie",
        "outputId": "3277afaa-97cf-44f3-f1ee-075263605fbe"
      },
      "outputs": [
        {
          "output_type": "stream",
          "name": "stdout",
          "text": [
            "origin\n",
            "Arizona         1\n",
            "California      5\n",
            "Texas          62\n",
            "Florida        26\n",
            "Maine          73\n",
            "Iowa           37\n",
            "Alaska        949\n",
            "Washington     48\n",
            "Oregon         48\n",
            "Wyoming       435\n",
            "Louisana       63\n",
            "Georgia       345\n",
            "Name: veterans, dtype: int64\n"
          ]
        }
      ],
      "source": [
        "print(army['veterans'])"
      ]
    },
    {
      "cell_type": "markdown",
      "metadata": {
        "id": "fov8Ag_5Y5Ie"
      },
      "source": [
        "### Step 6. Print the columns 'veterans' and 'deaths'"
      ]
    },
    {
      "cell_type": "code",
      "execution_count": 17,
      "metadata": {
        "colab": {
          "base_uri": "https://localhost:8080/"
        },
        "id": "nfB_uWlWY5Ie",
        "outputId": "ad77ebde-833b-4737-f7b5-44966531e5e9"
      },
      "outputs": [
        {
          "output_type": "stream",
          "name": "stdout",
          "text": [
            "            veterans  deaths\n",
            "origin                      \n",
            "Arizona            1     523\n",
            "California         5      52\n",
            "Texas             62      25\n",
            "Florida           26     616\n",
            "Maine             73      43\n",
            "Iowa              37     234\n",
            "Alaska           949     523\n",
            "Washington        48      62\n",
            "Oregon            48      62\n",
            "Wyoming          435      73\n",
            "Louisana          63      37\n",
            "Georgia          345      35\n"
          ]
        }
      ],
      "source": [
        "print(army[['veterans', 'deaths']])"
      ]
    },
    {
      "cell_type": "markdown",
      "metadata": {
        "id": "vpEaMx9fY5If"
      },
      "source": [
        "### Step 7. Print the name of all the columns."
      ]
    },
    {
      "cell_type": "code",
      "execution_count": 21,
      "metadata": {
        "colab": {
          "base_uri": "https://localhost:8080/"
        },
        "id": "bTOaUSDPY5If",
        "outputId": "1ffcea8c-f206-426a-c06f-b7fedc18ac27"
      },
      "outputs": [
        {
          "output_type": "stream",
          "name": "stdout",
          "text": [
            "['regiment', 'company', 'deaths', 'battles', 'size', 'veterans', 'readiness', 'armored', 'deserters']\n"
          ]
        }
      ],
      "source": [
        "print(list(army.columns))"
      ]
    },
    {
      "cell_type": "markdown",
      "metadata": {
        "id": "4wkjydTUY5If"
      },
      "source": [
        "### Step 8. Select the 'deaths', 'size' and 'deserters' columns from Maine and Alaska"
      ]
    },
    {
      "cell_type": "code",
      "execution_count": 22,
      "metadata": {
        "colab": {
          "base_uri": "https://localhost:8080/"
        },
        "id": "T__YK9OaY5Ig",
        "outputId": "3aa1425f-5bc3-41b8-a0d1-7db47972532d"
      },
      "outputs": [
        {
          "output_type": "stream",
          "name": "stdout",
          "text": [
            "        deaths  size  deserters\n",
            "origin                         \n",
            "Maine       43  1592          3\n",
            "Alaska     523   987         24\n"
          ]
        }
      ],
      "source": [
        "print(army.loc[['Maine', 'Alaska'], ['deaths', 'size', 'deserters' ]])"
      ]
    },
    {
      "cell_type": "markdown",
      "metadata": {
        "id": "2YymXIbjY5Ig"
      },
      "source": [
        "### Step 9. Select the rows 3 to 7 and the columns 3 to 6"
      ]
    },
    {
      "cell_type": "code",
      "execution_count": 23,
      "metadata": {
        "colab": {
          "base_uri": "https://localhost:8080/"
        },
        "id": "xvY4y29pY5Ig",
        "outputId": "c6228227-6852-4fe9-b0ec-a910142d93c5"
      },
      "outputs": [
        {
          "output_type": "stream",
          "name": "stdout",
          "text": [
            "            battles  size  veterans  readiness\n",
            "origin                                        \n",
            "Florida           2  1400        26          3\n",
            "Maine             4  1592        73          2\n",
            "Iowa              7  1006        37          1\n",
            "Alaska            8   987       949          2\n",
            "Washington        3   849        48          3\n"
          ]
        }
      ],
      "source": [
        "print(army.iloc[3:8, 3:7])"
      ]
    },
    {
      "cell_type": "markdown",
      "metadata": {
        "id": "DjrqN7h6Y5Ig"
      },
      "source": [
        "### Step 10. Select every row after the fourth row and all columns"
      ]
    },
    {
      "cell_type": "code",
      "execution_count": 25,
      "metadata": {
        "colab": {
          "base_uri": "https://localhost:8080/"
        },
        "id": "4mdoEf6jY5Ig",
        "outputId": "3c50a857-e5d3-42d5-ed7e-82188e8dab00"
      },
      "outputs": [
        {
          "output_type": "stream",
          "name": "stdout",
          "text": [
            "            regiment company  deaths  battles  size  veterans  readiness  \\\n",
            "origin                                                                     \n",
            "Maine       Dragoons     1st      43        4  1592        73          2   \n",
            "Iowa        Dragoons     1st     234        7  1006        37          1   \n",
            "Alaska      Dragoons     2nd     523        8   987       949          2   \n",
            "Washington  Dragoons     2nd      62        3   849        48          3   \n",
            "Oregon        Scouts     1st      62        4   973        48          2   \n",
            "Wyoming       Scouts     1st      73        7  1005       435          1   \n",
            "Louisana      Scouts     2nd      37        8  1099        63          2   \n",
            "Georgia       Scouts     2nd      35        9  1523       345          3   \n",
            "\n",
            "            armored  deserters  \n",
            "origin                          \n",
            "Maine             0          3  \n",
            "Iowa              1          4  \n",
            "Alaska            0         24  \n",
            "Washington        1         31  \n",
            "Oregon            0          2  \n",
            "Wyoming           0          3  \n",
            "Louisana          1          2  \n",
            "Georgia           1          3  \n"
          ]
        }
      ],
      "source": [
        "print(army.iloc[4:])"
      ]
    },
    {
      "cell_type": "markdown",
      "metadata": {
        "id": "0MteM_XcY5Ih"
      },
      "source": [
        "### Step 11. Select every row up to the 4th row and all columns"
      ]
    },
    {
      "cell_type": "code",
      "execution_count": 26,
      "metadata": {
        "colab": {
          "base_uri": "https://localhost:8080/"
        },
        "id": "EyWTf1sIY5Ih",
        "outputId": "2b52c53b-9f8d-442e-abff-eb5b66456ba7"
      },
      "outputs": [
        {
          "output_type": "stream",
          "name": "stdout",
          "text": [
            "              regiment company  deaths  battles  size  veterans  readiness  \\\n",
            "origin                                                                       \n",
            "Arizona     Nighthawks     1st     523        5  1045         1          1   \n",
            "California  Nighthawks     1st      52       42   957         5          2   \n",
            "Texas       Nighthawks     2nd      25        2  1099        62          3   \n",
            "Florida     Nighthawks     2nd     616        2  1400        26          3   \n",
            "\n",
            "            armored  deserters  \n",
            "origin                          \n",
            "Arizona           1          4  \n",
            "California        0         24  \n",
            "Texas             1         31  \n",
            "Florida           1          2  \n"
          ]
        }
      ],
      "source": [
        "print(army.iloc[:4])"
      ]
    },
    {
      "cell_type": "markdown",
      "metadata": {
        "id": "yS5manK9Y5Ih"
      },
      "source": [
        "### Step 12. Select the 3rd column up to the 7th column"
      ]
    },
    {
      "cell_type": "code",
      "execution_count": 27,
      "metadata": {
        "colab": {
          "base_uri": "https://localhost:8080/"
        },
        "id": "jwQ0znANY5Ih",
        "outputId": "c41782d1-2ddf-4421-dc23-a3469ae7f6e5"
      },
      "outputs": [
        {
          "output_type": "stream",
          "name": "stdout",
          "text": [
            "            deaths  battles  size  veterans  readiness\n",
            "origin                                                \n",
            "Arizona        523        5  1045         1          1\n",
            "California      52       42   957         5          2\n",
            "Texas           25        2  1099        62          3\n",
            "Florida        616        2  1400        26          3\n",
            "Maine           43        4  1592        73          2\n",
            "Iowa           234        7  1006        37          1\n",
            "Alaska         523        8   987       949          2\n",
            "Washington      62        3   849        48          3\n",
            "Oregon          62        4   973        48          2\n",
            "Wyoming         73        7  1005       435          1\n",
            "Louisana        37        8  1099        63          2\n",
            "Georgia         35        9  1523       345          3\n"
          ]
        }
      ],
      "source": [
        "print(army.iloc[:, 2:7])"
      ]
    },
    {
      "cell_type": "markdown",
      "metadata": {
        "id": "QVaQySTJY5Ih"
      },
      "source": [
        "### Step 13. Select rows where df.deaths is greater than 50"
      ]
    },
    {
      "cell_type": "code",
      "execution_count": null,
      "metadata": {
        "id": "swOTIeYVY5Ih"
      },
      "outputs": [],
      "source": []
    },
    {
      "cell_type": "markdown",
      "metadata": {
        "id": "LmBg3QYJY5Ih"
      },
      "source": [
        "### Step 14. Select rows where df.deaths is greater than 500 or less than 50"
      ]
    },
    {
      "cell_type": "code",
      "execution_count": null,
      "metadata": {
        "id": "8JDcyg3WY5Ii"
      },
      "outputs": [],
      "source": []
    },
    {
      "cell_type": "markdown",
      "metadata": {
        "id": "GKNelIyAY5Ii"
      },
      "source": [
        "### Step 15. Select all the regiments not named \"Dragoons\""
      ]
    },
    {
      "cell_type": "code",
      "execution_count": null,
      "metadata": {
        "id": "kC3soLsgY5Ii"
      },
      "outputs": [],
      "source": []
    },
    {
      "cell_type": "markdown",
      "metadata": {
        "id": "0UInpu6aY5Ii"
      },
      "source": [
        "### Step 16. Select the rows called Texas and Arizona"
      ]
    },
    {
      "cell_type": "code",
      "execution_count": null,
      "metadata": {
        "id": "QcaQXUJQY5Ii"
      },
      "outputs": [],
      "source": []
    },
    {
      "cell_type": "markdown",
      "metadata": {
        "id": "jGBHM4nZY5Ii"
      },
      "source": [
        "### Step 17. Select the third cell in the row named Arizona"
      ]
    },
    {
      "cell_type": "code",
      "execution_count": null,
      "metadata": {
        "id": "5KCmxC5mY5Ii"
      },
      "outputs": [],
      "source": []
    },
    {
      "cell_type": "markdown",
      "metadata": {
        "id": "JeLEQuBuY5Ii"
      },
      "source": [
        "### Step 18. Select the third cell down in the column named deaths"
      ]
    },
    {
      "cell_type": "code",
      "execution_count": null,
      "metadata": {
        "id": "tx3k-Fy8Y5Ij"
      },
      "outputs": [],
      "source": []
    }
  ],
  "metadata": {
    "kernelspec": {
      "display_name": "Python 3",
      "language": "python",
      "name": "python3"
    },
    "language_info": {
      "codemirror_mode": {
        "name": "ipython",
        "version": 3
      },
      "file_extension": ".py",
      "mimetype": "text/x-python",
      "name": "python",
      "nbconvert_exporter": "python",
      "pygments_lexer": "ipython3",
      "version": "3.7.3"
    },
    "colab": {
      "provenance": []
    }
  },
  "nbformat": 4,
  "nbformat_minor": 0
}