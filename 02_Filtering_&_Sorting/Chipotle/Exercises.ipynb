{
  "cells": [
    {
      "cell_type": "markdown",
      "metadata": {
        "id": "rqlARm4izxPd"
      },
      "source": [
        "# Ex1 - Filtering and Sorting Data"
      ]
    },
    {
      "cell_type": "markdown",
      "metadata": {
        "id": "MqISMrKRzxPg"
      },
      "source": [
        "This time we are going to pull data directly from the internet.\n",
        "Special thanks to: https://github.com/justmarkham for sharing the dataset and materials.\n",
        "\n",
        "### Step 1. Import the necessary libraries"
      ]
    },
    {
      "cell_type": "code",
      "execution_count": 2,
      "metadata": {
        "id": "j9Cb4_97zxPh"
      },
      "outputs": [],
      "source": [
        "import pandas as pd\n",
        "import numpy as ny"
      ]
    },
    {
      "cell_type": "markdown",
      "metadata": {
        "id": "VAz9IVtAzxPh"
      },
      "source": [
        "### Step 2. Import the dataset from this [address](https://raw.githubusercontent.com/justmarkham/DAT8/master/data/chipotle.tsv)."
      ]
    },
    {
      "cell_type": "markdown",
      "metadata": {
        "id": "ta_LWioDzxPi"
      },
      "source": [
        "### Step 3. Assign it to a variable called chipo."
      ]
    },
    {
      "cell_type": "code",
      "execution_count": 3,
      "metadata": {
        "id": "b1gVrTRFzxPi"
      },
      "outputs": [],
      "source": [
        "url = 'https://raw.githubusercontent.com/justmarkham/DAT8/master/data/chipotle.tsv'\n",
        "chipo = pd.read_csv(url, sep = '\\t')"
      ]
    },
    {
      "cell_type": "markdown",
      "metadata": {
        "id": "7BLMB0_HzxPi"
      },
      "source": [
        "### Step 4. How many products cost more than $10.00?"
      ]
    },
    {
      "cell_type": "code",
      "execution_count": 16,
      "metadata": {
        "colab": {
          "base_uri": "https://localhost:8080/"
        },
        "id": "2gRVFc5FzxPj",
        "outputId": "072fa199-18e7-4015-a784-d05c0342b789"
      },
      "outputs": [
        {
          "output_type": "stream",
          "name": "stdout",
          "text": [
            "Número de produtos que custam mais de $10.00: 1130\n"
          ]
        }
      ],
      "source": [
        "\n",
        "chipo['item_price'] = chipo['item_price'].astype(str).str.replace('$', '', regex=False).astype(float)\n",
        "\n",
        "\n",
        "items_caro = chipo[chipo['item_price'] > 10.00]\n",
        "\n",
        "\n",
        "num_item_caros = items_caro.shape[0]\n",
        "\n",
        "\n",
        "print(f\"Número de produtos que custam mais de $10.00: {num_item_caros}\")\n"
      ]
    },
    {
      "cell_type": "markdown",
      "metadata": {
        "id": "txoI_fQpzxPj"
      },
      "source": [
        "### Step 5. What is the price of each item?\n",
        "###### print a data frame with only two columns item_name and item_price"
      ]
    },
    {
      "cell_type": "code",
      "execution_count": 19,
      "metadata": {
        "colab": {
          "base_uri": "https://localhost:8080/"
        },
        "id": "3dn06VHCzxPk",
        "outputId": "f57d2c0c-1c24-45a5-ffb4-1142ab43aed7"
      },
      "outputs": [
        {
          "output_type": "stream",
          "name": "stdout",
          "text": [
            "      item_price                              item_name\n",
            "0           2.39           Chips and Fresh Tomato Salsa\n",
            "1           3.39                                   Izze\n",
            "2           3.39                       Nantucket Nectar\n",
            "3           2.39  Chips and Tomatillo-Green Chili Salsa\n",
            "4          16.98                           Chicken Bowl\n",
            "...          ...                                    ...\n",
            "4617       11.75                          Steak Burrito\n",
            "4618       11.75                          Steak Burrito\n",
            "4619       11.25                     Chicken Salad Bowl\n",
            "4620        8.75                     Chicken Salad Bowl\n",
            "4621        8.75                     Chicken Salad Bowl\n",
            "\n",
            "[4622 rows x 2 columns]\n"
          ]
        }
      ],
      "source": [
        "item_preco = chipo[['item_price', 'item_name']]\n",
        "print(item_preco)"
      ]
    },
    {
      "cell_type": "markdown",
      "metadata": {
        "id": "BXssB18DzxPk"
      },
      "source": [
        "### Step 6. Sort by the name of the item"
      ]
    },
    {
      "cell_type": "code",
      "execution_count": 20,
      "metadata": {
        "colab": {
          "base_uri": "https://localhost:8080/"
        },
        "id": "hjXI5JYDzxPk",
        "outputId": "d4c05e30-0b96-4dc6-bcfe-3302e889ce19"
      },
      "outputs": [
        {
          "output_type": "stream",
          "name": "stdout",
          "text": [
            "      order_id  quantity          item_name  \\\n",
            "3389      1360         2  6 Pack Soft Drink   \n",
            "341        148         1  6 Pack Soft Drink   \n",
            "1849       749         1  6 Pack Soft Drink   \n",
            "1860       754         1  6 Pack Soft Drink   \n",
            "2713      1076         1  6 Pack Soft Drink   \n",
            "...        ...       ...                ...   \n",
            "2384       948         1  Veggie Soft Tacos   \n",
            "781        322         1  Veggie Soft Tacos   \n",
            "2851      1132         1  Veggie Soft Tacos   \n",
            "1699       688         1  Veggie Soft Tacos   \n",
            "1395       567         1  Veggie Soft Tacos   \n",
            "\n",
            "                                     choice_description  item_price  \n",
            "3389                                        [Diet Coke]       12.98  \n",
            "341                                         [Diet Coke]        6.49  \n",
            "1849                                             [Coke]        6.49  \n",
            "1860                                        [Diet Coke]        6.49  \n",
            "2713                                             [Coke]        6.49  \n",
            "...                                                 ...         ...  \n",
            "2384  [Roasted Chili Corn Salsa, [Fajita Vegetables,...        8.75  \n",
            "781   [Fresh Tomato Salsa, [Black Beans, Cheese, Sou...        8.75  \n",
            "2851  [Roasted Chili Corn Salsa (Medium), [Black Bea...        8.49  \n",
            "1699  [Fresh Tomato Salsa, [Fajita Vegetables, Rice,...       11.25  \n",
            "1395  [Fresh Tomato Salsa (Mild), [Pinto Beans, Rice...        8.49  \n",
            "\n",
            "[4622 rows x 5 columns]\n"
          ]
        }
      ],
      "source": [
        "sorted_item_name = chipo.sort_values(by = 'item_name')\n",
        "print(sorted_item_name)"
      ]
    },
    {
      "cell_type": "markdown",
      "metadata": {
        "id": "h1yyjSWMzxPk"
      },
      "source": [
        "### Step 7. What was the quantity of the most expensive item ordered?"
      ]
    },
    {
      "cell_type": "code",
      "execution_count": 21,
      "metadata": {
        "colab": {
          "base_uri": "https://localhost:8080/"
        },
        "id": "FYqbFr-mzxPl",
        "outputId": "587cd8fe-1481-4f31-f559-92fd4be912a4"
      },
      "outputs": [
        {
          "output_type": "stream",
          "name": "stdout",
          "text": [
            "44.25\n"
          ]
        }
      ],
      "source": [
        "mais_caro = chipo['item_price'].max()\n",
        "print(mais_caro)"
      ]
    },
    {
      "cell_type": "markdown",
      "metadata": {
        "id": "5cpMkpajzxPl"
      },
      "source": [
        "### Step 8. How many times was a Veggie Salad Bowl ordered?"
      ]
    },
    {
      "cell_type": "code",
      "execution_count": 24,
      "metadata": {
        "colab": {
          "base_uri": "https://localhost:8080/"
        },
        "id": "yg-PkLAzzxPl",
        "outputId": "ace05437-605a-4eae-fa7e-f42890d764ad"
      },
      "outputs": [
        {
          "output_type": "stream",
          "name": "stdout",
          "text": [
            "0\n"
          ]
        }
      ],
      "source": [
        "veggie_pedido = chipo[chipo['item_name'] == 'Veggie salad bowl']\n",
        "num_veggie_pedido = veggie_pedido.shape[0]\n",
        "print(num_veggie_pedido)"
      ]
    },
    {
      "cell_type": "markdown",
      "metadata": {
        "id": "iaooWGudzxPl"
      },
      "source": [
        "### Step 9. How many times did someone order more than one Canned Soda?"
      ]
    },
    {
      "cell_type": "code",
      "execution_count": 29,
      "metadata": {
        "colab": {
          "base_uri": "https://localhost:8080/"
        },
        "id": "la9MSa1BzxPl",
        "outputId": "738f7265-97f5-44bb-f1f7-9d5a40a0d12a"
      },
      "outputs": [
        {
          "output_type": "stream",
          "name": "stdout",
          "text": [
            "O item 'Canned Soda' foi pedido mais de uma vez em 20 ocasiões.\n"
          ]
        }
      ],
      "source": [
        "canned_soda = chipo[chipo['item_name'] == 'Canned Soda']\n",
        "\n",
        "more_than_one = canned_soda[canned_soda['quantity'] > 1]\n",
        "\n",
        "num_more_than_one = more_than_one.shape[0]\n",
        "\n",
        "print(f\"O item 'Canned Soda' foi pedido mais de uma vez em {num_more_than_one} ocasiões.\")\n"
      ]
    }
  ],
  "metadata": {
    "kernelspec": {
      "display_name": "Python 2",
      "language": "python",
      "name": "python2"
    },
    "language_info": {
      "codemirror_mode": {
        "name": "ipython",
        "version": 2
      },
      "file_extension": ".py",
      "mimetype": "text/x-python",
      "name": "python",
      "nbconvert_exporter": "python",
      "pygments_lexer": "ipython2",
      "version": "2.7.11"
    },
    "colab": {
      "provenance": []
    }
  },
  "nbformat": 4,
  "nbformat_minor": 0
}